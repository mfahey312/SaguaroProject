{
 "cells": [
  {
   "cell_type": "markdown",
   "metadata": {},
   "source": [
    "<img src=\"images/Saguaro map.png\">"
   ]
  },
  {
   "cell_type": "markdown",
   "metadata": {},
   "source": [
    "## How Weather Affects The Health of The Saguaro Population at Desert Botanical Garden\n",
    "\n",
    "## Thank you\n",
    "* To the Research Team at Desert Botanical Garden - staff and volunteers - for the time and energy you have invested in creating this invaluable dataset and for supporting our class project.\n",
    "\n",
    "## Data analysis team\n",
    "* Steve Ovsak is ... He researched historical weather data sources and formatted the weather data for analysis\n",
    "* Steven Rohano's background is in the agricultural industry. He cleaned up and structured the historical saguaro inventory dataset for analysis.\n",
    "* Michael Fahey is ... In addition to contributing to data analysis, he managed GitHub for the project.\n",
    "* Veronica Nixon was responsible for organizing the Saguaro Inventory from 2012 to 2020 as the Garden's GIS Manager. She continues to support the Garden as a volunteer. Her background is in geographic information systems and science and she contributed botanical information to this analysis as well as data prep, analysis, and general project management.\n",
    "\n",
    "## Introduction\n",
    "* Desert Botanical Garden (DBG) has conducted an annual Saguaro Inventory since 2012. Every year 20+ volunteers and staff visit each saguaro on the property to assess its condition. Height measurements are taken every 5 years. We obtained the full historical saguaro inventory dataset from DBG and performed basic statistical analyses to look for any patterns or trends in the data. We obtained a daily historical weather dataset and focused this analysis on the affect on weather on the health of the DBG saguaro population.\n",
    "\n",
    "## Research questions\n",
    "* Is there a relationship between saguaro mortality and the number of nights above 90 degrees in a year? Cacti cannot \"breathe\" when the night-time temperature stays above 90, so we would expect to see higher mortality in years with more nights above 90.\n",
    "* Is there a relationship between saguaro growth rate and precipitation? We would expect to see higher growth rates in the year(s) following a high precipitation year.\n",
    "\n",
    "## Data\n",
    "* Historical Saguaro Inventory records were provided by Desert Botanical Garden from https://www.livingcollections.org.\n",
    "* Weather data was purchased from Visual Crossing: https://www.visualcrossing.com/weather/weather-data-services#/login\n",
    "* Saguaro and weather datasets were cleaned up and reformated using pandas.\n",
    "* Mortality_per_year_ready_for_analysis.csv contains the count of how many saguaros were lost in each year of interest.\n",
    "* GrowthRates_ready_for_analysis.csv contains average annual growth rates for each timespan of interest.\n",
    "* Nights_above_90_ready_for_analysis.csv contains the count of how many days had a low >= 90 F for each year.\n",
    "* precip_ready_for_analysis.csv contains average precipitation for each timespan of interest.\n",
    "\n",
    "## Analysis of saguaro mortality patterns\n",
    "* Bar plot of saguaro losses each year\n",
    "* Bar plot of nights above 90 earch year\n",
    "* Scatter plot of saguaro losses versus nights above 90\n",
    "\n",
    "## Analysis of saguaro growth rate patterns\n",
    "* Bar plot of saguaro growth rate per timespan\n",
    "* Bar plot of average annual precipitation per timespan\n",
    "* Scatter plot of saguaro growth rate versus average annual precipitation\n",
    "\n",
    "## Conclusions and Future Work\n",
    "* The linear regression analysis backed up the trend we were expecting to find between saguaro mortality and nights above 90. The trend is steep, tightly correlated, and statistically significant. However, the scatterplot of growth rate versus precipitation revealed the opposite of what we were expecting. But given that the growth rate versus precipitation trend is only based on 2 timespans, we need to wait for more years of data to be collected before the trend can be analyzed statistically. It is also very surprising to see that the growth rate doubled between timespans 1 and 2, particularly given the decrease in mean annual rainfall.\n",
    "\n",
    "* Due to the difficulty of measuring saguaro heights, they can only be measured every 5 years. Therefore we only had access to two growth rate datapoints. As time passes and more data is collected, it will be interesting to run regression analyses on growth rate-related trends.\n",
    "\n",
    "* Future work will include Saguaro Inventory 2021 in February!"
   ]
  },
  {
   "cell_type": "code",
   "execution_count": 29,
   "metadata": {},
   "outputs": [],
   "source": [
    "# Import dependencies\n",
    "import pandas as pd\n",
    "import numpy as np\n",
    "import matplotlib.pyplot as plt\n",
    "import scipy.stats as sts"
   ]
  },
  {
   "cell_type": "code",
   "execution_count": 30,
   "metadata": {},
   "outputs": [],
   "source": [
    "# Import data\n",
    "mortality_per_year_df = pd.read_csv(\"../Data ready for analyses/Mortality_per_year_ready_for_analysis.csv\")\n",
    "growth_rates_df = pd.read_csv(\"../Data ready for analyses/GrowthRates_ready_for_analysis.csv\")\n",
    "nights_above_90_df = pd.read_csv(\"../Data ready for analyses/Nights_above_90_ready_for_analysis.csv\")\n",
    "precip_df = pd.read_csv(\"../Data ready for analyses/precip_ready_for_analysis.csv\")"
   ]
  },
  {
   "cell_type": "markdown",
   "metadata": {},
   "source": [
    "# Analyze Saguaro Mortality Trends"
   ]
  },
  {
   "cell_type": "code",
   "execution_count": 31,
   "metadata": {
    "scrolled": true
   },
   "outputs": [
    {
     "data": {
      "text/html": [
       "<div>\n",
       "<style scoped>\n",
       "    .dataframe tbody tr th:only-of-type {\n",
       "        vertical-align: middle;\n",
       "    }\n",
       "\n",
       "    .dataframe tbody tr th {\n",
       "        vertical-align: top;\n",
       "    }\n",
       "\n",
       "    .dataframe thead th {\n",
       "        text-align: right;\n",
       "    }\n",
       "</style>\n",
       "<table border=\"1\" class=\"dataframe\">\n",
       "  <thead>\n",
       "    <tr style=\"text-align: right;\">\n",
       "      <th></th>\n",
       "      <th>Unnamed: 0</th>\n",
       "      <th>Year</th>\n",
       "      <th>Mortality Count</th>\n",
       "    </tr>\n",
       "  </thead>\n",
       "  <tbody>\n",
       "    <tr>\n",
       "      <th>0</th>\n",
       "      <td>0</td>\n",
       "      <td>2013</td>\n",
       "      <td>7</td>\n",
       "    </tr>\n",
       "    <tr>\n",
       "      <th>1</th>\n",
       "      <td>1</td>\n",
       "      <td>2014</td>\n",
       "      <td>5</td>\n",
       "    </tr>\n",
       "    <tr>\n",
       "      <th>2</th>\n",
       "      <td>2</td>\n",
       "      <td>2015</td>\n",
       "      <td>21</td>\n",
       "    </tr>\n",
       "    <tr>\n",
       "      <th>3</th>\n",
       "      <td>3</td>\n",
       "      <td>2016</td>\n",
       "      <td>8</td>\n",
       "    </tr>\n",
       "    <tr>\n",
       "      <th>4</th>\n",
       "      <td>4</td>\n",
       "      <td>2017</td>\n",
       "      <td>19</td>\n",
       "    </tr>\n",
       "    <tr>\n",
       "      <th>5</th>\n",
       "      <td>5</td>\n",
       "      <td>2018</td>\n",
       "      <td>13</td>\n",
       "    </tr>\n",
       "    <tr>\n",
       "      <th>6</th>\n",
       "      <td>6</td>\n",
       "      <td>2019</td>\n",
       "      <td>18</td>\n",
       "    </tr>\n",
       "    <tr>\n",
       "      <th>7</th>\n",
       "      <td>7</td>\n",
       "      <td>2020</td>\n",
       "      <td>15</td>\n",
       "    </tr>\n",
       "  </tbody>\n",
       "</table>\n",
       "</div>"
      ],
      "text/plain": [
       "   Unnamed: 0  Year  Mortality Count\n",
       "0           0  2013                7\n",
       "1           1  2014                5\n",
       "2           2  2015               21\n",
       "3           3  2016                8\n",
       "4           4  2017               19\n",
       "5           5  2018               13\n",
       "6           6  2019               18\n",
       "7           7  2020               15"
      ]
     },
     "execution_count": 31,
     "metadata": {},
     "output_type": "execute_result"
    }
   ],
   "source": [
    "# View dataset\n",
    "mortality_per_year_df"
   ]
  },
  {
   "cell_type": "code",
   "execution_count": 32,
   "metadata": {
    "scrolled": false
   },
   "outputs": [
    {
     "data": {
      "text/html": [
       "<div>\n",
       "<style scoped>\n",
       "    .dataframe tbody tr th:only-of-type {\n",
       "        vertical-align: middle;\n",
       "    }\n",
       "\n",
       "    .dataframe tbody tr th {\n",
       "        vertical-align: top;\n",
       "    }\n",
       "\n",
       "    .dataframe thead th {\n",
       "        text-align: right;\n",
       "    }\n",
       "</style>\n",
       "<table border=\"1\" class=\"dataframe\">\n",
       "  <thead>\n",
       "    <tr style=\"text-align: right;\">\n",
       "      <th></th>\n",
       "      <th>Year</th>\n",
       "      <th>Mortality Count</th>\n",
       "    </tr>\n",
       "  </thead>\n",
       "  <tbody>\n",
       "    <tr>\n",
       "      <th>1</th>\n",
       "      <td>2014</td>\n",
       "      <td>5</td>\n",
       "    </tr>\n",
       "    <tr>\n",
       "      <th>0</th>\n",
       "      <td>2013</td>\n",
       "      <td>7</td>\n",
       "    </tr>\n",
       "    <tr>\n",
       "      <th>3</th>\n",
       "      <td>2016</td>\n",
       "      <td>8</td>\n",
       "    </tr>\n",
       "    <tr>\n",
       "      <th>5</th>\n",
       "      <td>2018</td>\n",
       "      <td>13</td>\n",
       "    </tr>\n",
       "    <tr>\n",
       "      <th>7</th>\n",
       "      <td>2020</td>\n",
       "      <td>15</td>\n",
       "    </tr>\n",
       "    <tr>\n",
       "      <th>6</th>\n",
       "      <td>2019</td>\n",
       "      <td>18</td>\n",
       "    </tr>\n",
       "    <tr>\n",
       "      <th>4</th>\n",
       "      <td>2017</td>\n",
       "      <td>19</td>\n",
       "    </tr>\n",
       "    <tr>\n",
       "      <th>2</th>\n",
       "      <td>2015</td>\n",
       "      <td>21</td>\n",
       "    </tr>\n",
       "  </tbody>\n",
       "</table>\n",
       "</div>"
      ],
      "text/plain": [
       "   Year  Mortality Count\n",
       "1  2014                5\n",
       "0  2013                7\n",
       "3  2016                8\n",
       "5  2018               13\n",
       "7  2020               15\n",
       "6  2019               18\n",
       "4  2017               19\n",
       "2  2015               21"
      ]
     },
     "execution_count": 32,
     "metadata": {},
     "output_type": "execute_result"
    }
   ],
   "source": [
    "# Drop first column\n",
    "mortality_per_year_df = mortality_per_year_df[[\"Year\", \"Mortality Count\"]]\n",
    "mortality_per_year_sorted_df = mortality_per_year_df.sort_values(\"Mortality Count\")\n",
    "\n",
    "mortality_per_year_sorted_df"
   ]
  },
  {
   "cell_type": "code",
   "execution_count": 33,
   "metadata": {
    "scrolled": false
   },
   "outputs": [
    {
     "data": {
      "image/png": "[encoded data removed]",
      "text/plain": [
       "<Figure size 432x288 with 1 Axes>"
      ]
     },
     "metadata": {
      "needs_background": "light"
     },
     "output_type": "display_data"
    }
   ],
   "source": [
    "# Bar plot of saguaros recorded as \"Forever Dormant\" each year.\n",
    "plt.bar(mortality_per_year_df[\"Year\"], mortality_per_year_df[\"Mortality Count\"])\n",
    "plt.grid(color='#95a5a6', linestyle='--', linewidth=1, axis='y', alpha=0.6)\n",
    "plt.title(\"Saguaros Recorded As Forever Dormant By Year\", fontsize = 16)\n",
    "plt.xlabel(\"Year\", fontsize = 13)\n",
    "plt.ylabel(\"Number of saguaros\", fontsize = 13)\n",
    "plt.yticks(np.arange(0, 25, step=5))\n",
    "plt.show()"
   ]
  },
  {
   "cell_type": "code",
   "execution_count": 34,
   "metadata": {
    "scrolled": true
   },
   "outputs": [
    {
     "data": {
      "text/html": [
       "<div>\n",
       "<style scoped>\n",
       "    .dataframe tbody tr th:only-of-type {\n",
       "        vertical-align: middle;\n",
       "    }\n",
       "\n",
       "    .dataframe tbody tr th {\n",
       "        vertical-align: top;\n",
       "    }\n",
       "\n",
       "    .dataframe thead th {\n",
       "        text-align: right;\n",
       "    }\n",
       "</style>\n",
       "<table border=\"1\" class=\"dataframe\">\n",
       "  <thead>\n",
       "    <tr style=\"text-align: right;\">\n",
       "      <th></th>\n",
       "      <th>Year</th>\n",
       "      <th>Nights Above 90</th>\n",
       "    </tr>\n",
       "  </thead>\n",
       "  <tbody>\n",
       "    <tr>\n",
       "      <th>2</th>\n",
       "      <td>2014</td>\n",
       "      <td>4</td>\n",
       "    </tr>\n",
       "    <tr>\n",
       "      <th>4</th>\n",
       "      <td>2016</td>\n",
       "      <td>6</td>\n",
       "    </tr>\n",
       "    <tr>\n",
       "      <th>3</th>\n",
       "      <td>2015</td>\n",
       "      <td>7</td>\n",
       "    </tr>\n",
       "    <tr>\n",
       "      <th>5</th>\n",
       "      <td>2017</td>\n",
       "      <td>7</td>\n",
       "    </tr>\n",
       "    <tr>\n",
       "      <th>0</th>\n",
       "      <td>2012</td>\n",
       "      <td>8</td>\n",
       "    </tr>\n",
       "    <tr>\n",
       "      <th>7</th>\n",
       "      <td>2019</td>\n",
       "      <td>10</td>\n",
       "    </tr>\n",
       "    <tr>\n",
       "      <th>6</th>\n",
       "      <td>2018</td>\n",
       "      <td>11</td>\n",
       "    </tr>\n",
       "    <tr>\n",
       "      <th>1</th>\n",
       "      <td>2013</td>\n",
       "      <td>13</td>\n",
       "    </tr>\n",
       "  </tbody>\n",
       "</table>\n",
       "</div>"
      ],
      "text/plain": [
       "   Year  Nights Above 90\n",
       "2  2014                4\n",
       "4  2016                6\n",
       "3  2015                7\n",
       "5  2017                7\n",
       "0  2012                8\n",
       "7  2019               10\n",
       "6  2018               11\n",
       "1  2013               13"
      ]
     },
     "execution_count": 34,
     "metadata": {},
     "output_type": "execute_result"
    }
   ],
   "source": [
    "# Drop first column\n",
    "nights_above_90_df = nights_above_90_df[[\"Year\", \"Nights Above 90\"]]\n",
    "nights_above_90_sorted_df = nights_above_90_df.sort_values(\"Nights Above 90\")\n",
    "nights_above_90_sorted_df"
   ]
  },
  {
   "cell_type": "code",
   "execution_count": 35,
   "metadata": {},
   "outputs": [
    {
     "data": {
      "image/png": "[encoded data removed]",
      "text/plain": [
       "<Figure size 432x288 with 1 Axes>"
      ]
     },
     "metadata": {
      "needs_background": "light"
     },
     "output_type": "display_data"
    }
   ],
   "source": [
    "# Bar plot of nights above 90 each year.\n",
    "plt.bar(nights_above_90_df[\"Year\"], nights_above_90_df[\"Nights Above 90\"])\n",
    "plt.grid(color='#95a5a6', linestyle='--', linewidth=1, axis='y', alpha=0.6)\n",
    "plt.title(\"Nights Above 90 By Year\", fontsize = 16)\n",
    "plt.xlabel(\"Year\", fontsize = 13)\n",
    "plt.ylabel(\"Nights\", fontsize = 13)\n",
    "plt.yticks(np.arange(0, 25, step=5))\n",
    "plt.show()"
   ]
  },
  {
   "cell_type": "code",
   "execution_count": 36,
   "metadata": {},
   "outputs": [
    {
     "data": {
      "image/png": "[encoded data removed]",
      "text/plain": [
       "<Figure size 432x288 with 1 Axes>"
      ]
     },
     "metadata": {
      "needs_background": "light"
     },
     "output_type": "display_data"
    }
   ],
   "source": [
    "# Scatterplot of saguaros lost versus nights above 90\n",
    "x_axis = nights_above_90_sorted_df[\"Nights Above 90\"]\n",
    "y_axis = mortality_per_year_sorted_df[\"Mortality Count\"]\n",
    "plt.scatter(x_axis, y_axis)\n",
    "plt.grid(color='#95a5a6', linestyle='--', linewidth=1, axis='y', alpha=0.6)\n",
    "plt.title(\"Mortality Counts vs. Nights Above 90\", fontsize = 16)\n",
    "plt.xlabel(\"Nights Above 90\", fontsize = 13)\n",
    "plt.ylabel(\"Mortality Count\", fontsize = 13)\n",
    "plt.show()"
   ]
  },
  {
   "cell_type": "code",
   "execution_count": 37,
   "metadata": {
    "scrolled": true
   },
   "outputs": [
    {
     "data": {
      "text/plain": [
       "13.25"
      ]
     },
     "execution_count": 37,
     "metadata": {},
     "output_type": "execute_result"
    }
   ],
   "source": [
    "# Calculate mean mortality\n",
    "mean_mortality = mortality_per_year_df[\"Mortality Count\"].mean()\n",
    "\n",
    "mean_mortality"
   ]
  },
  {
   "cell_type": "code",
   "execution_count": 48,
   "metadata": {},
   "outputs": [
    {
     "data": {
      "image/png": "[encoded data removed]",
      "text/plain": [
       "<Figure size 432x288 with 1 Axes>"
      ]
     },
     "metadata": {
      "needs_background": "light"
     },
     "output_type": "display_data"
    },
    {
     "name": "stdout",
     "output_type": "stream",
     "text": [
      "y=2.0*x+-2.9\n",
      "r=0.95\n",
      "p=0.0003\n"
     ]
    }
   ],
   "source": [
    "# Linear regression analysis of mean annual mortality rate vs. number of nights above 90\n",
    "\n",
    "# Scatter plot\n",
    "x_axis = nights_above_90_sorted_df[\"Nights Above 90\"]\n",
    "y_axis = mortality_per_year_sorted_df[\"Mortality Count\"]\n",
    "plt.scatter(x_axis, y_axis)\n",
    "plt.grid(color='#95a5a6', linestyle='--', linewidth=1, axis='y', alpha=0.6)\n",
    "plt.title(\"Mortality Counts vs. Nights Above 90\", fontsize = 16)\n",
    "plt.xlabel(\"Nights Above 90\", fontsize = 13)\n",
    "plt.ylabel(\"Mortality Count\", fontsize = 13)\n",
    "\n",
    "# Linear regression analysis\n",
    "slope, y_int, r, p, std_err = sts.linregress(nights_above_90_sorted_df[\"Nights Above 90\"], mortality_per_year_sorted_df[\"Mortality Count\"])\n",
    "predicted_temp = slope * nights_above_90_sorted_df[\"Nights Above 90\"] + y_int\n",
    "plt.plot(nights_above_90_sorted_df[\"Nights Above 90\"], predicted_temp,\"--\", c=\"gray\")\n",
    "plt.show()\n",
    "\n",
    "# Print statistics\n",
    "print(\"y=\" + str(round(slope, 1)) + \"*x+\" + str(round(y_int, 1)))\n",
    "print(\"r=\" + str(round(r, 2)))\n",
    "print(\"p=\" + str(round(p, 4)))"
   ]
  },
  {
   "cell_type": "markdown",
   "metadata": {},
   "source": [
    "# Analyze Saguaro Growth Rate Trends"
   ]
  },
  {
   "cell_type": "code",
   "execution_count": 49,
   "metadata": {},
   "outputs": [
    {
     "data": {
      "text/html": [
       "<div>\n",
       "<style scoped>\n",
       "    .dataframe tbody tr th:only-of-type {\n",
       "        vertical-align: middle;\n",
       "    }\n",
       "\n",
       "    .dataframe tbody tr th {\n",
       "        vertical-align: top;\n",
       "    }\n",
       "\n",
       "    .dataframe thead th {\n",
       "        text-align: right;\n",
       "    }\n",
       "</style>\n",
       "<table border=\"1\" class=\"dataframe\">\n",
       "  <thead>\n",
       "    <tr style=\"text-align: right;\">\n",
       "      <th></th>\n",
       "      <th>Timespan</th>\n",
       "      <th>Mean Precipitation</th>\n",
       "    </tr>\n",
       "  </thead>\n",
       "  <tbody>\n",
       "    <tr>\n",
       "      <th>0</th>\n",
       "      <td>2013-2015</td>\n",
       "      <td>8.360</td>\n",
       "    </tr>\n",
       "    <tr>\n",
       "      <th>1</th>\n",
       "      <td>2015-2020</td>\n",
       "      <td>6.566</td>\n",
       "    </tr>\n",
       "  </tbody>\n",
       "</table>\n",
       "</div>"
      ],
      "text/plain": [
       "    Timespan  Mean Precipitation\n",
       "0  2013-2015               8.360\n",
       "1  2015-2020               6.566"
      ]
     },
     "execution_count": 49,
     "metadata": {},
     "output_type": "execute_result"
    }
   ],
   "source": [
    "# Drop first column\n",
    "precip_df = precip_df[[\"Timespan\", \"Mean Precipitation\"]]\n",
    "precip_df"
   ]
  },
  {
   "cell_type": "code",
   "execution_count": 50,
   "metadata": {},
   "outputs": [
    {
     "data": {
      "image/png": "[encoded data removed]",
      "text/plain": [
       "<Figure size 432x288 with 1 Axes>"
      ]
     },
     "metadata": {
      "needs_background": "light"
     },
     "output_type": "display_data"
    }
   ],
   "source": [
    "# Bar plot of average annual precipitation in each timespan.\n",
    "plt.bar(precip_df[\"Timespan\"], precip_df[\"Mean Precipitation\"])\n",
    "plt.grid(color='#95a5a6', linestyle='--', linewidth=1, axis='y', alpha=0.6)\n",
    "plt.title(\"Mean Annual Precipitation (inches)\", fontsize = 16)\n",
    "plt.xlabel(\"Timespan\", fontsize = 13)\n",
    "plt.ylabel(\"Precipitation (inches)\", fontsize = 13)\n",
    "plt.yticks(np.arange(0, 10, step=1))\n",
    "plt.show()"
   ]
  },
  {
   "cell_type": "code",
   "execution_count": 51,
   "metadata": {},
   "outputs": [
    {
     "data": {
      "text/html": [
       "<div>\n",
       "<style scoped>\n",
       "    .dataframe tbody tr th:only-of-type {\n",
       "        vertical-align: middle;\n",
       "    }\n",
       "\n",
       "    .dataframe tbody tr th {\n",
       "        vertical-align: top;\n",
       "    }\n",
       "\n",
       "    .dataframe thead th {\n",
       "        text-align: right;\n",
       "    }\n",
       "</style>\n",
       "<table border=\"1\" class=\"dataframe\">\n",
       "  <thead>\n",
       "    <tr style=\"text-align: right;\">\n",
       "      <th></th>\n",
       "      <th>Timespan</th>\n",
       "      <th>Average Yearly Growth Rate</th>\n",
       "    </tr>\n",
       "  </thead>\n",
       "  <tbody>\n",
       "    <tr>\n",
       "      <th>0</th>\n",
       "      <td>2013 - 2015</td>\n",
       "      <td>0.322</td>\n",
       "    </tr>\n",
       "    <tr>\n",
       "      <th>1</th>\n",
       "      <td>2015 - 2020</td>\n",
       "      <td>0.734</td>\n",
       "    </tr>\n",
       "  </tbody>\n",
       "</table>\n",
       "</div>"
      ],
      "text/plain": [
       "      Timespan  Average Yearly Growth Rate\n",
       "0  2013 - 2015                       0.322\n",
       "1  2015 - 2020                       0.734"
      ]
     },
     "execution_count": 51,
     "metadata": {},
     "output_type": "execute_result"
    }
   ],
   "source": [
    "# Drop first column\n",
    "growth_rates_df = growth_rates_df[[\"Timespan\", \"Average Yearly Growth Rate\"]]\n",
    "growth_rates_df"
   ]
  },
  {
   "cell_type": "code",
   "execution_count": 52,
   "metadata": {
    "scrolled": false
   },
   "outputs": [
    {
     "data": {
      "image/png": "[encoded data removed]",
      "text/plain": [
       "<Figure size 432x288 with 1 Axes>"
      ]
     },
     "metadata": {
      "needs_background": "light"
     },
     "output_type": "display_data"
    }
   ],
   "source": [
    "# Bar plot of average growth rate in each timespan.\n",
    "plt.bar(growth_rates_df[\"Timespan\"], growth_rates_df[\"Average Yearly Growth Rate\"])\n",
    "plt.grid(color='#95a5a6', linestyle='--', linewidth=1, axis='y', alpha=0.6)\n",
    "plt.title(\"Mean Annual Growth Rate\", fontsize = 16)\n",
    "plt.xlabel(\"Timespan\", fontsize = 13)\n",
    "plt.ylabel(\"Growth Rate (ft/yr)\", fontsize = 13)\n",
    "plt.yticks(np.arange(0, 1, step=0.2))\n",
    "plt.show()"
   ]
  },
  {
   "cell_type": "code",
   "execution_count": 59,
   "metadata": {},
   "outputs": [
    {
     "data": {
      "image/png": "[encoded data removed]",
      "text/plain": [
       "<Figure size 432x288 with 1 Axes>"
      ]
     },
     "metadata": {
      "needs_background": "light"
     },
     "output_type": "display_data"
    }
   ],
   "source": [
    "# Scatterplot of mean annual growth rate vs. mean annual precipitation (by timespan)\n",
    "x_axis = precip_df[\"Mean Precipitation\"]\n",
    "y_axis = growth_rates_df[\"Average Yearly Growth Rate\"]\n",
    "plt.scatter(x_axis, y_axis)\n",
    "plt.grid(color='#95a5a6', linestyle='--', linewidth=1, axis='y', alpha=0.6)\n",
    "plt.title(\"Mean Annual Growth Rate vs. Mean Annual Precipitation\", fontsize = 16)\n",
    "plt.xlabel(\"Precipitation (in)\", fontsize = 13)\n",
    "plt.ylabel(\"Growth Rate (ft/yr)\", fontsize = 13)\n",
    "plt.yticks(np.arange(0, 1, step=.1))\n",
    "plt.xticks(np.arange(6, 10, step = 1))\n",
    "plt.show()"
   ]
  },
  {
   "cell_type": "code",
   "execution_count": null,
   "metadata": {},
   "outputs": [],
   "source": []
  }
 ],
 "metadata": {
  "kernelspec": {
   "display_name": "Python 3",
   "language": "python",
   "name": "python3"
  },
  "language_info": {
   "codemirror_mode": {
    "name": "ipython",
    "version": 3
   },
   "file_extension": ".py",
   "mimetype": "text/x-python",
   "name": "python",
   "nbconvert_exporter": "python",
   "pygments_lexer": "ipython3",
   "version": "3.8.3"
  }
 },
 "nbformat": 4,
 "nbformat_minor": 4
}
