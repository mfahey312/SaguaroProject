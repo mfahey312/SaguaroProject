{
 "cells": [
  {
   "cell_type": "markdown",
   "metadata": {},
   "source": [
    "## Analysis of the Health of The Saguaro Population at Desert Botanical Garden\n",
    "\n",
    "<img src=\"images/Saguaro.jpg\">  <img src=\"images/Saguaro map.png\">"
   ]
  },
  {
   "cell_type": "markdown",
   "metadata": {},
   "source": [
    "---"
   ]
  },
  {
   "cell_type": "markdown",
   "metadata": {},
   "source": [
    "## Introduction\n",
    "* Desert Botanical Garden (DBG) has conducted an annual Saguaro Inventory since 2012. Now that 8 years of data have been collected, DBG is curious to find out if there are any patterns or trends in the data, particularly with respect to weather. We focused this analysis on two main questions. 1. Is there a relationship between saguaro mortality and number of nights above 90 degrees. Cactus cannot \"breathe\" when the night-time temperature stays above 90, so we would expect to see a trend. 2. Is there a relationship between saguaro growth rate and precipitation. We would expect to see years with higher precipitation produce higher growth rates in the following year.\n",
    "\n",
    "## Import data\n",
    "* Historical Saguaro Inventory records were requested from DBG. A report was downloaded from livingcollections.org.\n",
    "* Weather data was purchased from Visual Crossing: https://www.visualcrossing.com/weather/weather-data-services#/login\n",
    "* Mortality_per_year_ready_for_analysis.csv contains the count of how many saguaros were lost in each year of interest.\n",
    "* GrowthRates_ready_for_analysis.csv contains average annual growth rates for each timespan of interest.\n",
    "* Nights_above_90_ready_for_analysis.csv contains the count of how many days had a low >= 90 F for each year.\n",
    "* precip_ready_for_analysis.csv contains average precipitation for each timespan of interest.\n",
    "\n",
    "## Analyze saguaro mortality patterns\n",
    "* Bar plot of saguaro losses each year\n",
    "* Bar plot of nights above 90 earch year\n",
    "* Line plot of saguaro losses versus nights above 90\n",
    "\n",
    "## Analyze saguaro growth rate patterns\n",
    "* Bar plot of saguaro growth rate per timespan\n",
    "* Bar plot of average annual precipitation per timespan\n",
    "* Line plot of saguaro growth rate versus average annual precipitation\n",
    "\n",
    "## Conclusions and Future Work\n",
    "* The scatterplots backed up the trend we were expecting to find between saguaro mortality and nights above 90. However, the scatterplot of growth rate versus precipitation revealed the exact opposite trend. Given that the growth rate versus precipitation trend is only based on 2 data points, it might not be very reliable.\n",
    "\n",
    "* Due to the difficulty of measuring saguaro heights, they can only be measured every 5 years. Therefore we only had access to two growth rate datapoints. As time passes and more data is collected, it will be interesting to run regression analyses on growth rate-related trends.\n",
    "\n",
    "* Future work will include Saguaro Inventory 2021 in February!"
   ]
  },
  {
   "cell_type": "code",
   "execution_count": 133,
   "metadata": {},
   "outputs": [],
   "source": [
    "# Import dependencies\n",
    "import pandas as pd\n",
    "import numpy as np\n",
    "import matplotlib.pyplot as plt"
   ]
  },
  {
   "cell_type": "code",
   "execution_count": 134,
   "metadata": {},
   "outputs": [],
   "source": [
    "# Import data\n",
    "mortality_per_year_df = pd.read_csv(\"../Data ready for analyses/Mortality_per_year_ready_for_analysis.csv\")\n",
    "growth_rates_df = pd.read_csv(\"../Data ready for analyses/GrowthRates_ready_for_analysis.csv\")\n",
    "nights_above_90_df = pd.read_csv(\"../Data ready for analyses/Nights_above_90_ready_for_analysis.csv\")\n",
    "precip_df = pd.read_csv(\"../Data ready for analyses/precip_ready_for_analysis.csv\")"
   ]
  },
  {
   "cell_type": "markdown",
   "metadata": {},
   "source": [
    "# Analyze Saguaro Mortality Trends"
   ]
  },
  {
   "cell_type": "code",
   "execution_count": 135,
   "metadata": {
    "scrolled": true
   },
   "outputs": [
    {
     "data": {
      "text/html": [
       "<div>\n",
       "<style scoped>\n",
       "    .dataframe tbody tr th:only-of-type {\n",
       "        vertical-align: middle;\n",
       "    }\n",
       "\n",
       "    .dataframe tbody tr th {\n",
       "        vertical-align: top;\n",
       "    }\n",
       "\n",
       "    .dataframe thead th {\n",
       "        text-align: right;\n",
       "    }\n",
       "</style>\n",
       "<table border=\"1\" class=\"dataframe\">\n",
       "  <thead>\n",
       "    <tr style=\"text-align: right;\">\n",
       "      <th></th>\n",
       "      <th>Unnamed: 0</th>\n",
       "      <th>Year</th>\n",
       "      <th>Mortality Count</th>\n",
       "    </tr>\n",
       "  </thead>\n",
       "  <tbody>\n",
       "    <tr>\n",
       "      <th>0</th>\n",
       "      <td>0</td>\n",
       "      <td>2013</td>\n",
       "      <td>7</td>\n",
       "    </tr>\n",
       "    <tr>\n",
       "      <th>1</th>\n",
       "      <td>1</td>\n",
       "      <td>2014</td>\n",
       "      <td>5</td>\n",
       "    </tr>\n",
       "    <tr>\n",
       "      <th>2</th>\n",
       "      <td>2</td>\n",
       "      <td>2015</td>\n",
       "      <td>21</td>\n",
       "    </tr>\n",
       "    <tr>\n",
       "      <th>3</th>\n",
       "      <td>3</td>\n",
       "      <td>2016</td>\n",
       "      <td>8</td>\n",
       "    </tr>\n",
       "    <tr>\n",
       "      <th>4</th>\n",
       "      <td>4</td>\n",
       "      <td>2017</td>\n",
       "      <td>19</td>\n",
       "    </tr>\n",
       "    <tr>\n",
       "      <th>5</th>\n",
       "      <td>5</td>\n",
       "      <td>2018</td>\n",
       "      <td>13</td>\n",
       "    </tr>\n",
       "    <tr>\n",
       "      <th>6</th>\n",
       "      <td>6</td>\n",
       "      <td>2019</td>\n",
       "      <td>18</td>\n",
       "    </tr>\n",
       "    <tr>\n",
       "      <th>7</th>\n",
       "      <td>7</td>\n",
       "      <td>2020</td>\n",
       "      <td>15</td>\n",
       "    </tr>\n",
       "  </tbody>\n",
       "</table>\n",
       "</div>"
      ],
      "text/plain": [
       "   Unnamed: 0  Year  Mortality Count\n",
       "0           0  2013                7\n",
       "1           1  2014                5\n",
       "2           2  2015               21\n",
       "3           3  2016                8\n",
       "4           4  2017               19\n",
       "5           5  2018               13\n",
       "6           6  2019               18\n",
       "7           7  2020               15"
      ]
     },
     "execution_count": 135,
     "metadata": {},
     "output_type": "execute_result"
    }
   ],
   "source": [
    "# View dataset\n",
    "mortality_per_year_df"
   ]
  },
  {
   "cell_type": "code",
   "execution_count": 136,
   "metadata": {
    "scrolled": false
   },
   "outputs": [
    {
     "data": {
      "text/html": [
       "<div>\n",
       "<style scoped>\n",
       "    .dataframe tbody tr th:only-of-type {\n",
       "        vertical-align: middle;\n",
       "    }\n",
       "\n",
       "    .dataframe tbody tr th {\n",
       "        vertical-align: top;\n",
       "    }\n",
       "\n",
       "    .dataframe thead th {\n",
       "        text-align: right;\n",
       "    }\n",
       "</style>\n",
       "<table border=\"1\" class=\"dataframe\">\n",
       "  <thead>\n",
       "    <tr style=\"text-align: right;\">\n",
       "      <th></th>\n",
       "      <th>Year</th>\n",
       "      <th>Mortality Count</th>\n",
       "    </tr>\n",
       "  </thead>\n",
       "  <tbody>\n",
       "    <tr>\n",
       "      <th>1</th>\n",
       "      <td>2014</td>\n",
       "      <td>5</td>\n",
       "    </tr>\n",
       "    <tr>\n",
       "      <th>0</th>\n",
       "      <td>2013</td>\n",
       "      <td>7</td>\n",
       "    </tr>\n",
       "    <tr>\n",
       "      <th>3</th>\n",
       "      <td>2016</td>\n",
       "      <td>8</td>\n",
       "    </tr>\n",
       "    <tr>\n",
       "      <th>5</th>\n",
       "      <td>2018</td>\n",
       "      <td>13</td>\n",
       "    </tr>\n",
       "    <tr>\n",
       "      <th>7</th>\n",
       "      <td>2020</td>\n",
       "      <td>15</td>\n",
       "    </tr>\n",
       "    <tr>\n",
       "      <th>6</th>\n",
       "      <td>2019</td>\n",
       "      <td>18</td>\n",
       "    </tr>\n",
       "    <tr>\n",
       "      <th>4</th>\n",
       "      <td>2017</td>\n",
       "      <td>19</td>\n",
       "    </tr>\n",
       "    <tr>\n",
       "      <th>2</th>\n",
       "      <td>2015</td>\n",
       "      <td>21</td>\n",
       "    </tr>\n",
       "  </tbody>\n",
       "</table>\n",
       "</div>"
      ],
      "text/plain": [
       "   Year  Mortality Count\n",
       "1  2014                5\n",
       "0  2013                7\n",
       "3  2016                8\n",
       "5  2018               13\n",
       "7  2020               15\n",
       "6  2019               18\n",
       "4  2017               19\n",
       "2  2015               21"
      ]
     },
     "execution_count": 136,
     "metadata": {},
     "output_type": "execute_result"
    }
   ],
   "source": [
    "# Drop first column\n",
    "mortality_per_year_df = mortality_per_year_df[[\"Year\", \"Mortality Count\"]]\n",
    "mortality_per_year_sorted_df = mortality_per_year_df.sort_values(\"Mortality Count\")\n",
    "\n",
    "mortality_per_year_sorted_df"
   ]
  },
  {
   "cell_type": "code",
   "execution_count": 137,
   "metadata": {
    "scrolled": false
   },
   "outputs": [
    {
     "data": {
      "image/png": "[encoded data removed]",
      "text/plain": [
       "<Figure size 432x288 with 1 Axes>"
      ]
     },
     "metadata": {
      "needs_background": "light"
     },
     "output_type": "display_data"
    }
   ],
   "source": [
    "# Bar plot of saguaros recorded as \"Forever Dormant\" each year.\n",
    "plt.bar(mortality_per_year_df[\"Year\"], mortality_per_year_df[\"Mortality Count\"])\n",
    "plt.grid(color='#95a5a6', linestyle='--', linewidth=1, axis='y', alpha=0.6)\n",
    "plt.title(\"Saguaros Recorded As Forever Dormant By Year\", fontsize = 16)\n",
    "plt.xlabel(\"Year\", fontsize = 13)\n",
    "plt.ylabel(\"Saguaros Lost\", fontsize = 13)\n",
    "plt.yticks(np.arange(0, 25, step=5))\n",
    "plt.show()"
   ]
  },
  {
   "cell_type": "code",
   "execution_count": 138,
   "metadata": {
    "scrolled": true
   },
   "outputs": [
    {
     "data": {
      "text/html": [
       "<div>\n",
       "<style scoped>\n",
       "    .dataframe tbody tr th:only-of-type {\n",
       "        vertical-align: middle;\n",
       "    }\n",
       "\n",
       "    .dataframe tbody tr th {\n",
       "        vertical-align: top;\n",
       "    }\n",
       "\n",
       "    .dataframe thead th {\n",
       "        text-align: right;\n",
       "    }\n",
       "</style>\n",
       "<table border=\"1\" class=\"dataframe\">\n",
       "  <thead>\n",
       "    <tr style=\"text-align: right;\">\n",
       "      <th></th>\n",
       "      <th>Year</th>\n",
       "      <th>Nights Above 90</th>\n",
       "    </tr>\n",
       "  </thead>\n",
       "  <tbody>\n",
       "    <tr>\n",
       "      <th>2</th>\n",
       "      <td>2014</td>\n",
       "      <td>4</td>\n",
       "    </tr>\n",
       "    <tr>\n",
       "      <th>4</th>\n",
       "      <td>2016</td>\n",
       "      <td>6</td>\n",
       "    </tr>\n",
       "    <tr>\n",
       "      <th>3</th>\n",
       "      <td>2015</td>\n",
       "      <td>7</td>\n",
       "    </tr>\n",
       "    <tr>\n",
       "      <th>5</th>\n",
       "      <td>2017</td>\n",
       "      <td>7</td>\n",
       "    </tr>\n",
       "    <tr>\n",
       "      <th>0</th>\n",
       "      <td>2012</td>\n",
       "      <td>8</td>\n",
       "    </tr>\n",
       "    <tr>\n",
       "      <th>7</th>\n",
       "      <td>2019</td>\n",
       "      <td>10</td>\n",
       "    </tr>\n",
       "    <tr>\n",
       "      <th>6</th>\n",
       "      <td>2018</td>\n",
       "      <td>11</td>\n",
       "    </tr>\n",
       "    <tr>\n",
       "      <th>1</th>\n",
       "      <td>2013</td>\n",
       "      <td>13</td>\n",
       "    </tr>\n",
       "  </tbody>\n",
       "</table>\n",
       "</div>"
      ],
      "text/plain": [
       "   Year  Nights Above 90\n",
       "2  2014                4\n",
       "4  2016                6\n",
       "3  2015                7\n",
       "5  2017                7\n",
       "0  2012                8\n",
       "7  2019               10\n",
       "6  2018               11\n",
       "1  2013               13"
      ]
     },
     "execution_count": 138,
     "metadata": {},
     "output_type": "execute_result"
    }
   ],
   "source": [
    "# Drop first column\n",
    "nights_above_90_df = nights_above_90_df[[\"Year\", \"Nights Above 90\"]]\n",
    "nights_above_90_sorted_df = nights_above_90_df.sort_values(\"Nights Above 90\")\n",
    "nights_above_90_sorted_df"
   ]
  },
  {
   "cell_type": "code",
   "execution_count": 139,
   "metadata": {},
   "outputs": [
    {
     "data": {
      "image/png": "[encoded data removed]",
      "text/plain": [
       "<Figure size 432x288 with 1 Axes>"
      ]
     },
     "metadata": {
      "needs_background": "light"
     },
     "output_type": "display_data"
    }
   ],
   "source": [
    "# Bar plot of nights above 90 each year.\n",
    "plt.bar(nights_above_90_df[\"Year\"], nights_above_90_df[\"Nights Above 90\"])\n",
    "plt.grid(color='#95a5a6', linestyle='--', linewidth=1, axis='y', alpha=0.6)\n",
    "plt.title(\"Nights Above 90 By Year\", fontsize = 16)\n",
    "plt.xlabel(\"Year\", fontsize = 13)\n",
    "plt.ylabel(\"Nights\", fontsize = 13)\n",
    "plt.yticks(np.arange(0, 25, step=5))\n",
    "plt.show()"
   ]
  },
  {
   "cell_type": "code",
   "execution_count": 154,
   "metadata": {},
   "outputs": [
    {
     "data": {
      "image/png": "[encoded data removed]",
      "text/plain": [
       "<Figure size 432x288 with 1 Axes>"
      ]
     },
     "metadata": {
      "needs_background": "light"
     },
     "output_type": "display_data"
    }
   ],
   "source": [
    "# Scatterplot of saguaros lost versus nights above 90\n",
    "x_axis = nights_above_90_sorted_df[\"Nights Above 90\"]\n",
    "y_axis = mortality_per_year_sorted_df[\"Mortality Count\"]\n",
    "plt.scatter(x_axis, y_axis)\n",
    "plt.grid(color='#95a5a6', linestyle='--', linewidth=1, axis='y', alpha=0.6)\n",
    "plt.title(\"Mortality Counts vs. Nights Above 90\", fontsize = 16)\n",
    "plt.xlabel(\"Nights Above 90\", fontsize = 13)\n",
    "plt.ylabel(\"Mortality Count\", fontsize = 13)\n",
    "plt.show()"
   ]
  },
  {
   "cell_type": "code",
   "execution_count": 141,
   "metadata": {},
   "outputs": [
    {
     "data": {
      "text/plain": [
       "13.25"
      ]
     },
     "execution_count": 141,
     "metadata": {},
     "output_type": "execute_result"
    }
   ],
   "source": [
    "# Calculate mean mortality\n",
    "mean_mortality = mortality_per_year_df[\"Mortality Count\"].mean()\n",
    "\n",
    "mean_mortality"
   ]
  },
  {
   "cell_type": "markdown",
   "metadata": {},
   "source": [
    "# Analyze Saguaro Growth Rate Trends"
   ]
  },
  {
   "cell_type": "code",
   "execution_count": 142,
   "metadata": {},
   "outputs": [
    {
     "data": {
      "text/html": [
       "<div>\n",
       "<style scoped>\n",
       "    .dataframe tbody tr th:only-of-type {\n",
       "        vertical-align: middle;\n",
       "    }\n",
       "\n",
       "    .dataframe tbody tr th {\n",
       "        vertical-align: top;\n",
       "    }\n",
       "\n",
       "    .dataframe thead th {\n",
       "        text-align: right;\n",
       "    }\n",
       "</style>\n",
       "<table border=\"1\" class=\"dataframe\">\n",
       "  <thead>\n",
       "    <tr style=\"text-align: right;\">\n",
       "      <th></th>\n",
       "      <th>Timespan</th>\n",
       "      <th>Mean Precipitation</th>\n",
       "    </tr>\n",
       "  </thead>\n",
       "  <tbody>\n",
       "    <tr>\n",
       "      <th>0</th>\n",
       "      <td>1</td>\n",
       "      <td>8.360</td>\n",
       "    </tr>\n",
       "    <tr>\n",
       "      <th>1</th>\n",
       "      <td>2</td>\n",
       "      <td>6.566</td>\n",
       "    </tr>\n",
       "  </tbody>\n",
       "</table>\n",
       "</div>"
      ],
      "text/plain": [
       "   Timespan  Mean Precipitation\n",
       "0         1               8.360\n",
       "1         2               6.566"
      ]
     },
     "execution_count": 142,
     "metadata": {},
     "output_type": "execute_result"
    }
   ],
   "source": [
    "# Drop first column\n",
    "precip_df = precip_df[[\"Timespan\", \"Mean Precipitation\"]]\n",
    "precip_df"
   ]
  },
  {
   "cell_type": "code",
   "execution_count": 143,
   "metadata": {},
   "outputs": [
    {
     "data": {
      "image/png": "[encoded data removed]",
      "text/plain": [
       "<Figure size 432x288 with 1 Axes>"
      ]
     },
     "metadata": {
      "needs_background": "light"
     },
     "output_type": "display_data"
    }
   ],
   "source": [
    "# Bar plot of average annual precipitation in each timespan.\n",
    "plt.bar(precip_df[\"Timespan\"], precip_df[\"Mean Precipitation\"])\n",
    "plt.grid(color='#95a5a6', linestyle='--', linewidth=1, axis='y', alpha=0.6)\n",
    "plt.title(\"Mean Annual Precipitation by Timespan\", fontsize = 16)\n",
    "plt.xlabel(\"Timespan\", fontsize = 13)\n",
    "plt.ylabel(\"Mean Annual Precipitation (inches)\", fontsize = 13)\n",
    "plt.yticks(np.arange(0, 10, step=1))\n",
    "plt.show()"
   ]
  },
  {
   "cell_type": "code",
   "execution_count": 144,
   "metadata": {},
   "outputs": [
    {
     "data": {
      "text/html": [
       "<div>\n",
       "<style scoped>\n",
       "    .dataframe tbody tr th:only-of-type {\n",
       "        vertical-align: middle;\n",
       "    }\n",
       "\n",
       "    .dataframe tbody tr th {\n",
       "        vertical-align: top;\n",
       "    }\n",
       "\n",
       "    .dataframe thead th {\n",
       "        text-align: right;\n",
       "    }\n",
       "</style>\n",
       "<table border=\"1\" class=\"dataframe\">\n",
       "  <thead>\n",
       "    <tr style=\"text-align: right;\">\n",
       "      <th></th>\n",
       "      <th>Timespan</th>\n",
       "      <th>Average Yearly Growth Rate</th>\n",
       "    </tr>\n",
       "  </thead>\n",
       "  <tbody>\n",
       "    <tr>\n",
       "      <th>0</th>\n",
       "      <td>2013 - 2015</td>\n",
       "      <td>0.322</td>\n",
       "    </tr>\n",
       "    <tr>\n",
       "      <th>1</th>\n",
       "      <td>2015 - 2020</td>\n",
       "      <td>0.734</td>\n",
       "    </tr>\n",
       "  </tbody>\n",
       "</table>\n",
       "</div>"
      ],
      "text/plain": [
       "      Timespan  Average Yearly Growth Rate\n",
       "0  2013 - 2015                       0.322\n",
       "1  2015 - 2020                       0.734"
      ]
     },
     "execution_count": 144,
     "metadata": {},
     "output_type": "execute_result"
    }
   ],
   "source": [
    "# Drop first column\n",
    "growth_rates_df = growth_rates_df[[\"Timespan\", \"Average Yearly Growth Rate\"]]\n",
    "growth_rates_df"
   ]
  },
  {
   "cell_type": "code",
   "execution_count": 145,
   "metadata": {
    "scrolled": false
   },
   "outputs": [
    {
     "data": {
      "image/png": "[encoded data removed]",
      "text/plain": [
       "<Figure size 432x288 with 1 Axes>"
      ]
     },
     "metadata": {
      "needs_background": "light"
     },
     "output_type": "display_data"
    }
   ],
   "source": [
    "# Bar plot of average growth rate in each timespan.\n",
    "plt.bar(growth_rates_df[\"Timespan\"], growth_rates_df[\"Average Yearly Growth Rate\"])\n",
    "plt.grid(color='#95a5a6', linestyle='--', linewidth=1, axis='y', alpha=0.6)\n",
    "plt.title(\"Average Annual Growth Rate By Timespan\", fontsize = 16)\n",
    "plt.xlabel(\"Timespan\", fontsize = 13)\n",
    "plt.ylabel(\"Average Annual Growth Rate (inches)\", fontsize = 13)\n",
    "plt.yticks(np.arange(0, 1, step=0.2))\n",
    "plt.show()"
   ]
  },
  {
   "cell_type": "code",
   "execution_count": 155,
   "metadata": {},
   "outputs": [
    {
     "data": {
      "image/png": "[encoded data removed]",
      "text/plain": [
       "<Figure size 432x288 with 1 Axes>"
      ]
     },
     "metadata": {
      "needs_background": "light"
     },
     "output_type": "display_data"
    }
   ],
   "source": [
    "# Scatterplot of growth rate \n",
    "x_axis = precip_df[\"Mean Precipitation\"]\n",
    "y_axis = growth_rates_df[\"Average Yearly Growth Rate\"]\n",
    "plt.scatter(x_axis, y_axis)\n",
    "plt.grid(color='#95a5a6', linestyle='--', linewidth=1, axis='y', alpha=0.6)\n",
    "plt.title(\"Growth Rates vs. Mean Annual Precipitation\", fontsize = 16)\n",
    "plt.xlabel(\"Mean Annual Precipitation (inches)\", fontsize = 13)\n",
    "plt.ylabel(\"Growth Rate (inches/year)\", fontsize = 13)\n",
    "plt.yticks(np.arange(0, 1, step=.1))\n",
    "plt.show()"
   ]
  }
 ],
 "metadata": {
  "kernelspec": {
   "display_name": "Python 3",
   "language": "python",
   "name": "python3"
  },
  "language_info": {
   "codemirror_mode": {
    "name": "ipython",
    "version": 3
   },
   "file_extension": ".py",
   "mimetype": "text/x-python",
   "name": "python",
   "nbconvert_exporter": "python",
   "pygments_lexer": "ipython3",
   "version": "3.8.3"
  }
 },
 "nbformat": 4,
 "nbformat_minor": 4
}
